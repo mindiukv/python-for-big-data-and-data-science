{
  "nbformat": 4,
  "nbformat_minor": 0,
  "metadata": {
    "colab": {
      "provenance": []
    },
    "kernelspec": {
      "name": "python3",
      "display_name": "Python 3"
    },
    "language_info": {
      "name": "python"
    }
  },
  "cells": [
    {
      "cell_type": "markdown",
      "source": [
        "# I. Змінні та памʼять."
      ],
      "metadata": {
        "id": "p9wwt0LZzNvn"
      }
    },
    {
      "cell_type": "markdown",
      "source": [
        "1. Створити змінні, що посилаються на два цілих числа, що однакові за значенням, де значення належить проміжку від -5 до 256. Перевірте, чи будуть ці змінні рівні тільки за значенням або ж ще будуть посилатися на один і той самий обʼєкт в памʼяті? Наведіть код та дайте текстову відповідь нижче."
      ],
      "metadata": {
        "id": "HTJrrm95xSV9"
      }
    },
    {
      "cell_type": "code",
      "execution_count": 43,
      "metadata": {
        "id": "TATni2vzayjG",
        "colab": {
          "base_uri": "https://localhost:8080/"
        },
        "outputId": "c3f27715-51b7-4326-ad06-98f751adaace"
      },
      "outputs": [
        {
          "output_type": "stream",
          "name": "stdout",
          "text": [
            "True\n",
            "True\n"
          ]
        }
      ],
      "source": [
        "var_1=14\n",
        "var_2=14\n",
        "print(var_1==var_2)\n",
        "print(id(var_1)==id(var_2))"
      ]
    },
    {
      "cell_type": "markdown",
      "source": [
        "Змінні var_1 та var_2 є рівними за значенням, а також посилаються на один і той самий об'єкт в пам'яті (це підтверджується за домогою рівності id цих змінних)"
      ],
      "metadata": {
        "id": "zfRG_o3WbRdg"
      }
    },
    {
      "cell_type": "markdown",
      "source": [
        "2. За допомогою якої функції можна перевірити належність змінної до вказаного типу даних (напр. чи змінна True посилається на значення булевого та цілочисленого типу)?"
      ],
      "metadata": {
        "id": "ISORzt6M3vAt"
      }
    },
    {
      "cell_type": "code",
      "source": [
        "my_bool = True\n",
        "print(isinstance(my_bool, bool))\n",
        "print(isinstance(my_bool, int))"
      ],
      "metadata": {
        "id": "9vL9CFaMbfyo",
        "colab": {
          "base_uri": "https://localhost:8080/"
        },
        "outputId": "2d18c4ec-f571-45ee-df1b-1a0530ed7c4e"
      },
      "execution_count": 44,
      "outputs": [
        {
          "output_type": "stream",
          "name": "stdout",
          "text": [
            "True\n",
            "True\n"
          ]
        }
      ]
    },
    {
      "cell_type": "markdown",
      "source": [
        "# II. Цілі числа та числа з рухомою комою"
      ],
      "metadata": {
        "id": "tRxugKAxwYLw"
      }
    },
    {
      "cell_type": "markdown",
      "source": [
        "3. Створити дві змінні, що посилаються на будь-які ціле число та число з рухомою комою та продемонструвати такі арифметичні операції: додавання, віднімання, ділення, множення, ділення без залишку, ділення по модулю, приведення до ступеню. Всі результати операцій вивести на екран."
      ],
      "metadata": {
        "id": "NLHkgd5Gybc8"
      }
    },
    {
      "cell_type": "code",
      "source": [
        "num_1=14\n",
        "num_2=4.25\n",
        "print(num_1+num_2)\n",
        "print(num_1-num_2)\n",
        "print(num_1/num_2)\n",
        "print(num_1*num_2)\n",
        "print(num_1//num_2)\n",
        "print(num_1%num_2)\n",
        "print(num_1**num_2)"
      ],
      "metadata": {
        "id": "nb8u_3pjb2cA",
        "colab": {
          "base_uri": "https://localhost:8080/"
        },
        "outputId": "26c660b6-f53c-4b29-c6ea-d54641ccf9f0"
      },
      "execution_count": 62,
      "outputs": [
        {
          "output_type": "stream",
          "name": "stdout",
          "text": [
            "18.25\n",
            "9.75\n",
            "3.2941176470588234\n",
            "59.5\n",
            "3.0\n",
            "1.25\n",
            "74309.46792100278\n"
          ]
        }
      ]
    },
    {
      "cell_type": "markdown",
      "source": [
        "4. Використовуючи змінні з вправи 3, продемонструйте механізм явного перетворення типів, де числа з рухомою комою перетворюються на цілі числа. Також визначте змінну, що посилається на значення булевого типу і спробуйте явно привести її до цілого числа."
      ],
      "metadata": {
        "id": "1kBClKgPzZnC"
      }
    },
    {
      "cell_type": "code",
      "source": [
        "float_to_int = int(num_2)\n",
        "my_true_bool = True\n",
        "bool_to_int = int(my_true_bool)\n",
        "print(float_to_int)\n",
        "print(bool_to_int)"
      ],
      "metadata": {
        "id": "TbqJbkeUcKsD",
        "colab": {
          "base_uri": "https://localhost:8080/"
        },
        "outputId": "3719f31d-ddf1-4f60-a842-c5a98b4044ab"
      },
      "execution_count": 63,
      "outputs": [
        {
          "output_type": "stream",
          "name": "stdout",
          "text": [
            "4\n",
            "1\n"
          ]
        }
      ]
    },
    {
      "cell_type": "markdown",
      "source": [
        "# IІІ. Рядки (String)."
      ],
      "metadata": {
        "id": "EVJ7AflwxrZi"
      }
    },
    {
      "cell_type": "markdown",
      "source": [
        "5. Створити пустий рядок двома різними способами."
      ],
      "metadata": {
        "id": "_s5ECzz9zE61"
      }
    },
    {
      "cell_type": "code",
      "source": [
        "empty_string_1=\"\"\n",
        "empty_string_2=str()"
      ],
      "metadata": {
        "id": "fkZJHu9Scvc-"
      },
      "execution_count": 47,
      "outputs": []
    },
    {
      "cell_type": "markdown",
      "source": [
        "6. Створити рядок з апострофом. Зробити його сирим. Вивести обидва рядка на екран."
      ],
      "metadata": {
        "id": "4Bdn9J3MzLf_"
      }
    },
    {
      "cell_type": "code",
      "source": [
        "ordinary_str = 'I\\'m a volleyball player'\n",
        "raw_str = r'I\\'m a volleyball player'\n",
        "print(ordinary_str)\n",
        "print(raw_str)"
      ],
      "metadata": {
        "id": "ivji_hsmc0GH",
        "colab": {
          "base_uri": "https://localhost:8080/"
        },
        "outputId": "41839569-755a-4f28-a8de-22a0a84855d9"
      },
      "execution_count": 64,
      "outputs": [
        {
          "output_type": "stream",
          "name": "stdout",
          "text": [
            "I'm a volleyball player\n",
            "I\\'m a volleyball player\n"
          ]
        }
      ]
    },
    {
      "cell_type": "markdown",
      "source": [
        "7. Створити змінну, що буде посилатися на Ваше прізвище латинкою. Створити форматований рядок, який буде мати вигляд \"My surname is ______\", де на місці нижніх підкреслень буде Ваше прізвище зі змінної."
      ],
      "metadata": {
        "id": "bg_d8wM4z8dS"
      }
    },
    {
      "cell_type": "code",
      "source": [
        "surname = \"Mindiuk\"\n",
        "my_surname_is = f\"My surname is {surname}\"\n",
        "print(my_surname_is)"
      ],
      "metadata": {
        "id": "kuxFgpWndACq",
        "colab": {
          "base_uri": "https://localhost:8080/"
        },
        "outputId": "c0c964e1-cc9d-4ac4-9eda-9586d2bbc68e"
      },
      "execution_count": 49,
      "outputs": [
        {
          "output_type": "stream",
          "name": "stdout",
          "text": [
            "My surname is Mindiuk\n"
          ]
        }
      ]
    },
    {
      "cell_type": "markdown",
      "source": [
        "8. Маючи рядок \"My dog is crazy.\" перетворити його на список [\"my\", \"dog\", \"is\", \"crazy\"]"
      ],
      "metadata": {
        "id": "1Nc6RqvQ0hxU"
      }
    },
    {
      "cell_type": "code",
      "source": [
        "dog_string = \"My dog is crazy.\"\n",
        "string_list = dog_string.lower()[:-1].split(\" \")\n",
        "print(string_list)"
      ],
      "metadata": {
        "id": "w1Ya4RqedUhw",
        "colab": {
          "base_uri": "https://localhost:8080/"
        },
        "outputId": "89e2cda1-2bf2-43e9-9209-27668e17d237"
      },
      "execution_count": 50,
      "outputs": [
        {
          "output_type": "stream",
          "name": "stdout",
          "text": [
            "['my', 'dog', 'is', 'crazy']\n"
          ]
        }
      ]
    },
    {
      "cell_type": "markdown",
      "source": [
        "# IV. Робота зі списками."
      ],
      "metadata": {
        "id": "GYVqN9uP1D4n"
      }
    },
    {
      "cell_type": "markdown",
      "source": [
        "9. Створити список двома різними за синтаксисом способами. За допомогою вбудованої функції обчисліть довжину одного з них."
      ],
      "metadata": {
        "id": "7-DeDunw2sO-"
      }
    },
    {
      "cell_type": "code",
      "source": [
        "my_list_1 = [1, 3, 5, 7]\n",
        "my_list_2 = list((2, 4, 6))\n",
        "print(len(my_list_2))"
      ],
      "metadata": {
        "id": "zxg06Uuxdyoh",
        "colab": {
          "base_uri": "https://localhost:8080/"
        },
        "outputId": "e1d1fdba-6e65-4d69-d008-fd6e6980b746"
      },
      "execution_count": 65,
      "outputs": [
        {
          "output_type": "stream",
          "name": "stdout",
          "text": [
            "3\n"
          ]
        }
      ]
    },
    {
      "cell_type": "markdown",
      "source": [
        "10. Створіть два списка та за допомогою спеціального методу додайте другий з них в якості останнього елемента першого."
      ],
      "metadata": {
        "id": "8vmGUTjL22gI"
      }
    },
    {
      "cell_type": "code",
      "source": [
        "list_1 = [1, 3, 5]\n",
        "list_2 = [7, 9, 11]\n",
        "list_1.append(list_2)\n",
        "print(list_1)"
      ],
      "metadata": {
        "id": "uHtjWYw7d7hm",
        "colab": {
          "base_uri": "https://localhost:8080/"
        },
        "outputId": "9c99c865-fa3b-4094-c218-77fb1094de37"
      },
      "execution_count": 52,
      "outputs": [
        {
          "output_type": "stream",
          "name": "stdout",
          "text": [
            "[1, 3, 5, [7, 9, 11]]\n"
          ]
        }
      ]
    },
    {
      "cell_type": "markdown",
      "source": [
        "11. Створіть список, де елементами цього списку також є списки. Отримай перший елемент з останнього рядка та виведи значення на екран."
      ],
      "metadata": {
        "id": "JC3BkD-67_--"
      }
    },
    {
      "cell_type": "code",
      "source": [
        "list_of_lists = [[1, 4, 7], [2, 5, 8], [3, 6, 9]]\n",
        "print(list_of_lists[-1][0])"
      ],
      "metadata": {
        "id": "Kz2jZHsGeLlz",
        "colab": {
          "base_uri": "https://localhost:8080/"
        },
        "outputId": "fa1f7ced-a9e1-4069-e2cf-95ffc67f59ea"
      },
      "execution_count": 53,
      "outputs": [
        {
          "output_type": "stream",
          "name": "stdout",
          "text": [
            "3\n"
          ]
        }
      ]
    },
    {
      "cell_type": "markdown",
      "source": [
        "12. Створіть список з десяти елементів різного типу. Отримайте всі елементи, окрім двох перших та двох останніх та збережіть їх в новій змінній."
      ],
      "metadata": {
        "id": "JA47PKTv8zFK"
      }
    },
    {
      "cell_type": "code",
      "source": [
        "list_of_mix =[14, \"April\", 0.4, (4, 14, 24), [\"call\", \"my\", \"home\"], True, {\"band\" : \"The 1975\", \"song\" : \"Love It If We Made It\"}, {18, 12, 2023}, [1, 2, 3], False]\n",
        "sliced_list_of_mix = list_of_mix[2:-2]\n",
        "print(sliced_list_of_mix)"
      ],
      "metadata": {
        "id": "_rHdUR-ueP4-",
        "colab": {
          "base_uri": "https://localhost:8080/"
        },
        "outputId": "623e9874-c836-42b8-f966-439a846e6e75"
      },
      "execution_count": 54,
      "outputs": [
        {
          "output_type": "stream",
          "name": "stdout",
          "text": [
            "[0.4, (4, 14, 24), ['call', 'my', 'home'], True, {'band': 'The 1975', 'song': 'Love It If We Made It'}, {18, 12, 2023}]\n"
          ]
        }
      ]
    },
    {
      "cell_type": "markdown",
      "source": [
        "# V. Робота з кортежами."
      ],
      "metadata": {
        "id": "pCjR1dJb1Qbi"
      }
    },
    {
      "cell_type": "markdown",
      "source": [
        "14. Створити кортеж з один елементом."
      ],
      "metadata": {
        "id": "fAZCxAX06R_k"
      }
    },
    {
      "cell_type": "code",
      "source": [
        "my_tuple=(7,)"
      ],
      "metadata": {
        "id": "H7d82WkQev3e"
      },
      "execution_count": null,
      "outputs": []
    },
    {
      "cell_type": "markdown",
      "source": [
        "15. Порівняйте список та кортеж. Назвіть схожості та відмінності, випадки використання."
      ],
      "metadata": {
        "id": "8LCtYcmI6w1M"
      }
    },
    {
      "cell_type": "markdown",
      "source": [
        "**Схожості**\n",
        "\n",
        "\n",
        "*   як в списку, так і в кортежі елементи зберігаються у впорядкованій послідовності\n",
        "*   в обох структурах даних можливі дублікати елементів\n",
        "\n",
        "\n",
        "\n",
        "**Відмінності**\n",
        "\n",
        "\n",
        "*   список є мутабельним, кортеж - ні\n",
        "*   список створюється за допомогою квадратних дужок \"[]\", а кортеж за допомогою круглих дужок \"()\"\n",
        "* операції над кортежами виконуються швидше через немутабельність структури\n",
        "\n",
        "\n",
        "**Використання**\n",
        "\n",
        "* ***Список:*** Використовується, коли потрібно зберігати колекцію елементів, які можуть змінюватися або перевпорядковуватися. Прикладом може бути список завдань на день.\n",
        "\n",
        "* ***Кортеж:*** Використовується, коли потрібно зберігати фіксовану колекцію елементів, яка не має змінюватися. Прикладом використання можуть бути дні тижня."
      ],
      "metadata": {
        "id": "fUsN1Hnue0C6"
      }
    },
    {
      "cell_type": "markdown",
      "source": [
        "16. Створіть кортеж з 11ти елементів чисел з рухомою комою та отримайте кожен парний за індексом елемент в зворотньому порядку. Наприклад, маючи (1.2, 2.3, 3.3, 4.3, 5.3, 6.3, 7.3, 8.3, 9.3, 0.3), отримати (0.3, 8.3, 6.3, 4.3, 2.3). Результат збережіть в нову змінну та виведіть на екран."
      ],
      "metadata": {
        "id": "m0xrwFijAmDD"
      }
    },
    {
      "cell_type": "code",
      "source": [
        "tuple_of_float = (0.4, 2.4, 4.4, 6.4, 8.4, 10.4, 12.4, 14.4, 16.4, 18.4, 20.4)\n",
        "reversed_even_by_index_tuple = tuple_of_float[::-2]\n",
        "print(reversed_even_by_index_tuple)\n"
      ],
      "metadata": {
        "id": "p-5DAH6XfAGA",
        "colab": {
          "base_uri": "https://localhost:8080/"
        },
        "outputId": "563acf5e-9401-4d9d-d798-5f87fa6e763e"
      },
      "execution_count": 55,
      "outputs": [
        {
          "output_type": "stream",
          "name": "stdout",
          "text": [
            "(20.4, 16.4, 12.4, 8.4, 4.4, 0.4)\n"
          ]
        }
      ]
    },
    {
      "cell_type": "markdown",
      "source": [
        "# VI. Множини (Set)."
      ],
      "metadata": {
        "id": "rW_I9dt3x6cW"
      }
    },
    {
      "cell_type": "markdown",
      "source": [
        "17. Створити множину без елементів. Після цого за допомогою методу додайте кілька різних елементів до множини. Чи множини є змінним типом даних?"
      ],
      "metadata": {
        "id": "zNjRLHLw1Bgg"
      }
    },
    {
      "cell_type": "code",
      "source": [
        "my_set = set()\n",
        "my_set.add(\"book\")\n",
        "my_set.add(14)\n",
        "my_set.add(True)\n",
        "print(my_set)"
      ],
      "metadata": {
        "id": "KOv7zc2Kfo4N",
        "colab": {
          "base_uri": "https://localhost:8080/"
        },
        "outputId": "0a213540-59ce-46a8-b9a5-d2732ab62e1b"
      },
      "execution_count": 66,
      "outputs": [
        {
          "output_type": "stream",
          "name": "stdout",
          "text": [
            "{True, 'book', 14}\n"
          ]
        }
      ]
    },
    {
      "cell_type": "markdown",
      "source": [
        "Так, множина є змінним типом даних."
      ],
      "metadata": {
        "id": "vxS6dVYiftZQ"
      }
    },
    {
      "cell_type": "markdown",
      "source": [
        "18. Створити множину, маючи список my_list = [1, 1, 2, 67, 67, 8, 9]. Пояснити, чому \"зникли\" деякі елементи."
      ],
      "metadata": {
        "id": "gHpT0Zw_1HEF"
      }
    },
    {
      "cell_type": "code",
      "source": [
        "my_list = [1, 1, 2, 67, 67, 8, 9]\n",
        "list_to_set = set(my_list)\n",
        "print(list_to_set)"
      ],
      "metadata": {
        "id": "qCN4uvJ_fxmu",
        "colab": {
          "base_uri": "https://localhost:8080/"
        },
        "outputId": "50b771b0-1f6e-4d2d-8fcc-22969f559393"
      },
      "execution_count": 57,
      "outputs": [
        {
          "output_type": "stream",
          "name": "stdout",
          "text": [
            "{1, 2, 67, 8, 9}\n"
          ]
        }
      ]
    },
    {
      "cell_type": "markdown",
      "source": [
        "Деякі елементи \"зникли\", бо множина не допускає наявність дублікатів. Натомість елементи мають бути унікальними."
      ],
      "metadata": {
        "id": "tFNc1e20fyny"
      }
    },
    {
      "cell_type": "markdown",
      "source": [
        "19. Створіть дві множини. Продемонстуйте над ними операції: обʼєднання, різниці, пересічі та симетричної різниці. Використовуйте методи, що не змінюють множини, а створюють нові."
      ],
      "metadata": {
        "id": "SRMkGizS1UwY"
      }
    },
    {
      "cell_type": "code",
      "source": [
        "my_set_1 = {1, 3, 5, 6}\n",
        "my_set_2 = {5, 6, 8, 10}\n",
        "union_set = my_set_1.union(my_set_2)\n",
        "difference_set = my_set_1.difference(my_set_2)\n",
        "intersection_set = my_set_1.intersection(my_set_2)\n",
        "symm_diff_set = my_set_1.symmetric_difference(my_set_2)\n",
        "print(union_set)\n",
        "print(difference_set)\n",
        "print(intersection_set)\n",
        "print(symm_diff_set)"
      ],
      "metadata": {
        "id": "h0T-VuDnf3Ri",
        "colab": {
          "base_uri": "https://localhost:8080/"
        },
        "outputId": "33d2ffcf-d734-4109-d4a7-8791cb09c98e"
      },
      "execution_count": 67,
      "outputs": [
        {
          "output_type": "stream",
          "name": "stdout",
          "text": [
            "{1, 3, 5, 6, 8, 10}\n",
            "{1, 3}\n",
            "{5, 6}\n",
            "{1, 3, 8, 10}\n"
          ]
        }
      ]
    },
    {
      "cell_type": "markdown",
      "source": [
        "# VII. Словники (Dictionary)."
      ],
      "metadata": {
        "id": "kWc8gkzTx7Ea"
      }
    },
    {
      "cell_type": "markdown",
      "source": [
        "20. Створіть пустий словник. До нього додайте чотири пари елементів такі, щоб їхні ключі були різних типів. Чи може список бути ключем? Чому?"
      ],
      "metadata": {
        "id": "i5FLwj-B2ybQ"
      }
    },
    {
      "cell_type": "code",
      "source": [
        "my_dict = {}\n",
        "my_dict[1.4]=\"name\"\n",
        "my_dict[\"str\"]=\"surname\"\n",
        "my_dict[(1, 3, 5)]=\"patronymic\"\n",
        "my_dict[True]=\"age\"\n",
        "print(my_dict.items())"
      ],
      "metadata": {
        "id": "hxgv3BzrgLAV",
        "colab": {
          "base_uri": "https://localhost:8080/"
        },
        "outputId": "2593917d-8db8-4016-cd6e-2b782a966f83"
      },
      "execution_count": 59,
      "outputs": [
        {
          "output_type": "stream",
          "name": "stdout",
          "text": [
            "dict_items([(1.4, 'name'), ('str', 'surname'), ((1, 3, 5), 'patronymic'), (True, 'age')])\n"
          ]
        }
      ]
    },
    {
      "cell_type": "markdown",
      "source": [
        "Список не може бути ключем, бо цей тип даних є змінним, а ключі можуть бути лише незмінними(це дозволяє використовувати їх для створення унікального хешу, який використовується для швидкого пошуку значення у словнику)"
      ],
      "metadata": {
        "id": "zwa7UVN-gR3m"
      }
    },
    {
      "cell_type": "markdown",
      "source": [
        "21. Створіть словник, де значенням в одній з пар теж буде словник, який теж має вкладений словник. Виведіть на екран значення, що міститься в словнику, що знаходиться на найнижчому рівні ієрархії вкладеності (найбільш внутрішній)."
      ],
      "metadata": {
        "id": "WM_pMlJsgoNf"
      }
    },
    {
      "cell_type": "code",
      "source": [
        "nested_dict = {\"lev_1_key_1\" : \"a\", \"lev_1_key_2\" : {\"lev_2_key_1\" : \"b\", \"lev_2_key_2\" : {\"lev_3\" : \"c\"}}}\n",
        "most_inner_value = nested_dict[\"lev_1_key_2\"][\"lev_2_key_2\"][\"lev_3\"]\n",
        "print(most_inner_value)"
      ],
      "metadata": {
        "id": "60dlP7IHhAy4",
        "colab": {
          "base_uri": "https://localhost:8080/"
        },
        "outputId": "1ea29209-69e7-46c5-dbcf-ee449d83dad7"
      },
      "execution_count": 61,
      "outputs": [
        {
          "output_type": "stream",
          "name": "stdout",
          "text": [
            "c\n"
          ]
        }
      ]
    },
    {
      "cell_type": "markdown",
      "source": [
        "# Вітаю! Ви велика(ий) молодець, що впоралась(вся). Похваліть себе та побалуйте чимось приємним. Я Вами пишаюся."
      ],
      "metadata": {
        "id": "xOZP0hkx6cCr"
      }
    }
  ]
}